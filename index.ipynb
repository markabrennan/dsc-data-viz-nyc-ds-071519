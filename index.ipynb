{
 "cells": [
  {
   "cell_type": "markdown",
   "metadata": {},
   "source": [
    "# Data Visualization\n",
    "\n",
    "## Introduction\n",
    "\n",
    "This lesson introduces data visualization using Python and the popular Matplotlib plotting library. We shall look into the elements of standard Matplotlib plots and how to use them for creating and customizing visualizations. \n",
    "\n",
    "## Objectives\n",
    "You will be able to:\n",
    "* Understand the Matplotlib plot structure for drawing basic plots.\n",
    "* Visualize data using scatterplots, barplots and histograms\n",
    "\n",
    "## Matplotlib Plotting Library\n",
    "\n",
    "The Matplotlib plotting library provides a range of built in functions to start visualizing data with minimum effort. \n",
    "\n",
    "Let's first import matplotlib's `pyplot` module (a module is a unit of prewritten code that we can use in our projects) into our working environment along with `numpy` (one of the most popular libraries in Python for scientific computing) to create our sample data. We shall import the `pyplot` module from `matplotlib` as it provides simple and agile creation of desired plots. \n",
    "\n",
    "Following import statement must be provided before using `matplotlib.pyplot`.\n",
    "\n",
    "```python\n",
    "import matplotlib.pyplot as plt\n",
    "\n",
    "```\n",
    "\n",
    "In jupyter notebooks, you can use `%matplotlib` magic with `inline` to show plots inside the notebook or `qt` for external/interactive plots. `inline` is recommended for most requirements (external plots are suitable for interactive visualizations).  "
   ]
  },
  {
   "cell_type": "code",
   "execution_count": 3,
   "metadata": {},
   "outputs": [],
   "source": [
    "# Import matplotlib\n",
    "import matplotlib.pyplot as plt\n",
    "\n",
    "# Set plot space as inline for inline plots and qt for external plots\n",
    "%matplotlib inline"
   ]
  },
  {
   "cell_type": "markdown",
   "metadata": {},
   "source": [
    "## Scatter plot\n",
    "\n",
    "A scatter plot is a two-dimensional data visualization that uses dots to represent the values obtained for two different variables - one plotted along the x-axis and the other plotted along the y-axis. \n",
    "\n",
    "Scatter plots are used when you want to show the relationship between two variables. Scatter plots are sometimes called correlation plots because they show how two variables are correlated. \n",
    "\n",
    "\n",
    "Let's use python's `numpy` library to create sample data (numpy will be covered in detail in unit 3). We shall use [numpy's `linspace()` function](https://docs.scipy.org/doc/numpy-1.14.5/reference/generated/numpy.linspace.html) to quickly generate some dummy data for visualizations."
   ]
  },
  {
   "cell_type": "code",
   "execution_count": 4,
   "metadata": {},
   "outputs": [],
   "source": [
    "# Import numpy to generate some dummy data\n",
    "import numpy as np\n",
    "\n",
    "# Generate an array x of 30 equally spaced data points on a line space of 0 - 10.\n",
    "x = np.linspace(0, 10, 30)\n",
    "# Calcuate sin(x) and dave in a new array y\n",
    "y = np.sin(x)"
   ]
  },
  {
   "cell_type": "code",
   "execution_count": 5,
   "metadata": {},
   "outputs": [
    {
     "data": {
      "text/plain": [
       "array([ 0.        ,  0.34482759,  0.68965517,  1.03448276,  1.37931034,\n",
       "        1.72413793,  2.06896552,  2.4137931 ,  2.75862069,  3.10344828,\n",
       "        3.44827586,  3.79310345,  4.13793103,  4.48275862,  4.82758621,\n",
       "        5.17241379,  5.51724138,  5.86206897,  6.20689655,  6.55172414,\n",
       "        6.89655172,  7.24137931,  7.5862069 ,  7.93103448,  8.27586207,\n",
       "        8.62068966,  8.96551724,  9.31034483,  9.65517241, 10.        ])"
      ]
     },
     "execution_count": 5,
     "metadata": {},
     "output_type": "execute_result"
    }
   ],
   "source": [
    "x"
   ]
  },
  {
   "cell_type": "code",
   "execution_count": 6,
   "metadata": {},
   "outputs": [
    {
     "data": {
      "text/plain": [
       "array([ 0.        ,  0.33803442,  0.6362712 ,  0.85959818,  0.98172251,\n",
       "        0.9882662 ,  0.87845883,  0.6652283 ,  0.37367879,  0.03813513,\n",
       "       -0.30189827, -0.60638843, -0.83948697, -0.9737506 , -0.99337213,\n",
       "       -0.89604148, -0.69321762, -0.40877952, -0.07621478,  0.26532292,\n",
       "        0.57562349,  0.81815446,  0.96436206,  0.9970329 ,  0.91232056,\n",
       "        0.72019844,  0.44328555,  0.11418355, -0.22836157, -0.54402111])"
      ]
     },
     "execution_count": 6,
     "metadata": {},
     "output_type": "execute_result"
    }
   ],
   "source": [
    "y"
   ]
  },
  {
   "cell_type": "code",
   "execution_count": null,
   "metadata": {},
   "outputs": [],
   "source": []
  },
  {
   "cell_type": "markdown",
   "metadata": {},
   "source": [
    "Now that we have our data ready, We shall create a scatter plot using `plt.scatter()` function which can take in two vectors and shows their relationship. We can optionally pass in extra parameters like `label` to provide information to the plot, `plt.title()` for defining a title and `plt.legend()` to add this context information to the plot. Finally we shall use `plt.show()` functions to output the plot."
   ]
  },
  {
   "cell_type": "code",
   "execution_count": 7,
   "metadata": {},
   "outputs": [
    {
     "data": {
      "image/png": "[encoded data removed]",
      "text/plain": [
       "<Figure size 432x288 with 1 Axes>"
      ]
     },
     "metadata": {
      "needs_background": "light"
     },
     "output_type": "display_data"
    }
   ],
   "source": [
    "# Pass in x and y values with a label \n",
    "plt.scatter(x, y, label = \"Function: sin(x)\" )\n",
    "plt.title('Scatter Plot in Matplotlib')\n",
    "plt.legend()\n",
    "plt.show()"
   ]
  },
  {
   "cell_type": "markdown",
   "metadata": {},
   "source": [
    "So above shows the harmonic relationship between variables i.e. the sine wave. We can customize the plot further to make it easier to read as below:\n",
    "\n",
    "Let's provide labels for both axes in the above chart by using `plt.xlabel` and `plt.ylabel`. We can also change the size of the plot with `plt.figure(figsize=(a,b))`, where a and b are inches for width and height of the plot. Let's see this in action below:"
   ]
  },
  {
   "cell_type": "code",
   "execution_count": 5,
   "metadata": {},
   "outputs": [
    {
     "data": {
      "image/png": "[encoded data removed]",
      "text/plain": [
       "<Figure size 720x432 with 1 Axes>"
      ]
     },
     "metadata": {
      "needs_background": "light"
     },
     "output_type": "display_data"
    }
   ],
   "source": [
    "# Set the figure size in inches\n",
    "plt.figure(figsize=(10,6))\n",
    "\n",
    "plt.scatter(x, y, label = \"y = sin(x)\" )\n",
    "\n",
    "# Set x and y axes labels\n",
    "plt.xlabel('X values')\n",
    "plt.ylabel('Y values')\n",
    "\n",
    "plt.title('Scatter Plot in Matplotlib')\n",
    "plt.legend()\n",
    "plt.show()"
   ]
  },
  {
   "cell_type": "markdown",
   "metadata": {},
   "source": [
    "Remember, labeling and other customizations that you see here are applicable to almost all kinds of plots in matplotlib as we shall see ahead. \n",
    "\n",
    "### Bar Graph or Column Graph.\n",
    "\n",
    "Bar charts are one of the most common plot types for showing comparisons between data elements. A bar chart or column graph allows comparisons across categories by presenting categorical data as rectangular bars with heights or lengths proportional to the values that they represent. One axis of the chart shows the specific categories being compared and the other axis represents a discrete value scale. The bars can be plotted vertically or horizontally.\n",
    "\n",
    "<img src=\"images/image_bar.png\" width=\"700\">\n",
    "\n",
    "\n",
    "Matplotlib comes packaged with a number of handy plotting functions. Matplotlib's `.bar()` and `.barh()` methods can be used to draw constant width vertical and constant height horizontal bar graphs for a simple sequence of x, y values. Let's plot a simple vertical bar graph with `.bar()` function. In the above example, we had the same number of values in both x and y. Let's generate some more data in numpy for plotting first. "
   ]
  },
  {
   "cell_type": "code",
   "execution_count": 6,
   "metadata": {},
   "outputs": [],
   "source": [
    "# Set seed for reproducability\n",
    "np.random.seed(100)\n",
    "\n",
    "# Generate variable x as 10 categories using numpy's arange function for x-axis\n",
    "x = np.arange(10)\n",
    "\n",
    "# For y-axis, generate 10 random quantities from the “standard normal” distribution (zero mean) \n",
    "# using numpy's random.randn() function\n",
    "y = np.random.randn(10)"
   ]
  },
  {
   "cell_type": "code",
   "execution_count": 11,
   "metadata": {},
   "outputs": [
    {
     "data": {
      "text/plain": [
       "array([0, 1, 2, 3, 4, 5, 6, 7, 8, 9])"
      ]
     },
     "execution_count": 11,
     "metadata": {},
     "output_type": "execute_result"
    }
   ],
   "source": [
    "x"
   ]
  },
  {
   "cell_type": "code",
   "execution_count": 12,
   "metadata": {},
   "outputs": [
    {
     "data": {
      "text/plain": [
       "array([-1.74976547,  0.3426804 ,  1.1530358 , -0.25243604,  0.98132079,\n",
       "        0.51421884,  0.22117967, -1.07004333, -0.18949583,  0.25500144])"
      ]
     },
     "execution_count": 12,
     "metadata": {},
     "output_type": "execute_result"
    }
   ],
   "source": [
    "y"
   ]
  },
  {
   "cell_type": "code",
   "execution_count": null,
   "metadata": {},
   "outputs": [],
   "source": []
  },
  {
   "cell_type": "markdown",
   "metadata": {},
   "source": [
    "Now let's plot a bar graph based on above data."
   ]
  },
  {
   "cell_type": "code",
   "execution_count": 7,
   "metadata": {},
   "outputs": [
    {
     "data": {
      "image/png": "[encoded data removed]",
      "text/plain": [
       "<Figure size 720x432 with 1 Axes>"
      ]
     },
     "metadata": {
      "needs_background": "light"
     },
     "output_type": "display_data"
    }
   ],
   "source": [
    "plt.figure(figsize=(10,6))\n",
    "\n",
    "# Use bar() function to create a plot using above values on both x and y co-ordinates. Add a label.\n",
    "plt.bar(x, y, label='Sample Data')\n",
    "\n",
    "plt.xlabel('X values - categories')\n",
    "plt.ylabel('Y values - quantities')\n",
    "\n",
    "plt.title('Bar Plot in Matplotlib')\n",
    "plt.legend()\n",
    "\n",
    "# Output the final plot\n",
    "plt.show()"
   ]
  },
  {
   "cell_type": "code",
   "execution_count": null,
   "metadata": {},
   "outputs": [],
   "source": []
  },
  {
   "cell_type": "markdown",
   "metadata": {},
   "source": [
    "With such a bar graph, we can easily inspect the quantities in each category (0-10) and make informed decisions about data distribution in these categories. "
   ]
  },
  {
   "cell_type": "markdown",
   "metadata": {},
   "source": [
    "##  Histograms \n",
    "\n",
    "A histogram is a plot that lets you discover the underlying frequency distribution of a set of continuous data. This allows the inspection of the data for its underlying distribution (e.g., normal distribution), outliers, skewness, etc. An example of a histogram, and the raw data it was constructed from, is shown below:\n",
    "\n",
    "\n",
    "<img src=\"images/image_histogram.png\" width=\"300\">\n",
    "\n",
    "\n",
    "Basically, histograms are used to represent data given in form of some groups. X-axis is about bin ranges where Y-axis talks about frequency. So, if you want to represent age wise population in form of graph then histogram suits well as it tells you how many exists in certain group range or bin, if you talk in context of histograms.\n",
    "\n",
    "Bars Charts are distinguished from Histograms, as they do not display continuous developments over an interval. Bar Chart's discrete data is categorical data and therefore answers the question of \"how many?\" in each category.\n",
    "\n",
    "<br>\n",
    "<img src=\"images/image_bar_hist.png\" width=\"700\">\n",
    "<br>\n",
    "\n",
    "In matplotlib, we can use `plt.hist()` function to draw a histogram while passing in values from the required data variable. First, we shall use the `np.random.randn()` function to generate 200 numbers with a 0 mean normal distribution."
   ]
  },
  {
   "cell_type": "code",
   "execution_count": 11,
   "metadata": {},
   "outputs": [
    {
     "data": {
      "image/png": "[encoded data removed]",
      "text/plain": [
       "<Figure size 432x288 with 1 Axes>"
      ]
     },
     "metadata": {
      "needs_background": "light"
     },
     "output_type": "display_data"
    }
   ],
   "source": [
    "# Set seed for reproducability\n",
    "np.random.seed(100)\n",
    "\n",
    "# Generate 100 values from 0 mean normal distribution\n",
    "x = np.random.randn(200)\n",
    "\n",
    "#Plot the distogram with hist() function\n",
    "plt.hist(x, bins = 5)\n",
    "\n",
    "plt.xlabel('Normal random distribution')\n",
    "plt.ylabel('Frequency of Values')\n",
    "plt.title('Histograms in matplotlib')\n",
    "plt.show()"
   ]
  },
  {
   "cell_type": "code",
   "execution_count": 9,
   "metadata": {},
   "outputs": [
    {
     "data": {
      "text/plain": [
       "array([-1.74976547,  0.3426804 ,  1.1530358 , -0.25243604,  0.98132079,\n",
       "        0.51421884,  0.22117967, -1.07004333, -0.18949583,  0.25500144,\n",
       "       -0.45802699,  0.43516349, -0.58359505,  0.81684707,  0.67272081,\n",
       "       -0.10441114, -0.53128038,  1.02973269, -0.43813562, -1.11831825,\n",
       "        1.61898166,  1.54160517, -0.25187914, -0.84243574,  0.18451869,\n",
       "        0.9370822 ,  0.73100034,  1.36155613, -0.32623806,  0.05567601,\n",
       "        0.22239961, -1.443217  , -0.75635231,  0.81645401,  0.75044476,\n",
       "       -0.45594693,  1.18962227, -1.69061683, -1.35639905, -1.23243451,\n",
       "       -0.54443916, -0.66817174,  0.00731456, -0.61293874,  1.29974807,\n",
       "       -1.73309562, -0.9833101 ,  0.35750775, -1.6135785 ,  1.47071387,\n",
       "       -1.1880176 , -0.54974619, -0.94004616, -0.82793236,  0.10886347,\n",
       "        0.50780959, -0.86222735,  1.24946974, -0.07961125, -0.88973148,\n",
       "       -0.88179839,  0.01863895,  0.23784462,  0.01354855, -1.6355294 ,\n",
       "       -1.04420988,  0.61303888,  0.73620521,  1.02692144, -1.43219061,\n",
       "       -1.8411883 ,  0.36609323, -0.33177714, -0.68921798,  2.03460756,\n",
       "       -0.55071441,  0.75045333, -1.30699234,  0.58057334, -1.10452309,\n",
       "        0.69012147,  0.68689007, -1.56668753,  0.90497412,  0.7788224 ,\n",
       "        0.42823287,  0.10887199,  0.02828363, -0.57882582, -1.1994512 ,\n",
       "       -1.70595201,  0.36916396,  1.87657343, -0.37690335,  1.83193608,\n",
       "        0.00301743, -0.07602347,  0.00395759, -0.18501411, -2.48715154,\n",
       "       -1.70465121, -1.13626101, -2.97331547,  0.03331728, -0.24888867,\n",
       "       -0.45017644,  0.1324278 ,  0.02221393,  0.31736798, -0.75241418,\n",
       "       -1.29639181,  0.09513944, -0.4237151 , -1.18598356, -0.36546199,\n",
       "       -1.27102304,  1.58617094,  0.69339066, -1.95808123, -0.13480131,\n",
       "       -1.54061602,  2.04671397, -1.39699934, -1.09717198, -0.23871287,\n",
       "       -1.4290669 ,  0.94900478, -0.01939759,  0.89459771,  0.75969312,\n",
       "       -1.49772038, -1.19388598,  1.29626259,  0.95227563, -1.21725413,\n",
       "       -0.15726517, -1.50758516,  0.10788413,  0.74705566,  0.42967644,\n",
       "       -1.41504292, -0.64075992,  0.7796263 , -0.43812092,  2.07479317,\n",
       "       -0.34329768, -0.61662937,  0.76318365,  0.19291719, -0.34845893,\n",
       "        2.29865394, -0.16520955,  0.46629937,  0.26998724, -0.31983105,\n",
       "       -1.1477416 ,  1.70362399, -0.72215077,  1.09368665, -0.22951775,\n",
       "       -0.00889866, -0.54319801,  0.75306219, -1.6094389 ,  1.94326226,\n",
       "       -1.44743611,  0.13024846,  0.94936086, -2.01518872, -0.07954059,\n",
       "        0.30104946, -1.68489996,  0.22239081, -0.68492174, -0.12620118,\n",
       "        1.99027365,  0.5229978 , -0.0163454 , -0.41581634, -1.35850294,\n",
       "       -0.51442989, -0.21606012,  0.42238022, -1.09404293,  1.23690789,\n",
       "       -0.23028468, -0.7044182 , -0.59137512,  0.73699517,  0.43586725,\n",
       "        1.77599359,  0.51307438,  1.17052698,  2.07771223, -0.45592202,\n",
       "        0.64917293, -0.17478155,  1.01726434, -0.59998304,  1.57616672])"
      ]
     },
     "execution_count": 9,
     "metadata": {},
     "output_type": "execute_result"
    }
   ],
   "source": [
    "x\n"
   ]
  },
  {
   "cell_type": "code",
   "execution_count": 99,
   "metadata": {},
   "outputs": [
    {
     "data": {
      "image/png": "[encoded data removed]",
      "text/plain": [
       "<matplotlib.figure.Figure at 0x12173ce10>"
      ]
     },
     "metadata": {},
     "output_type": "display_data"
    }
   ],
   "source": [
    "plt.hist(x, bins = 5)\n",
    "plt.xlabel('Normal Distribution')\n",
    "plt.ylabel('Frequency of values')\n",
    "plt.title('Histograms in matplotlib')\n",
    "plt.show()"
   ]
  },
  {
   "cell_type": "markdown",
   "metadata": {},
   "source": [
    "The granularity of bins can be changed according to the analytical needs and amount of underlying data. So if we generate a lot of numbers, and use lots of bins, it starts to look like a more \"bell-shaped\" normal distribution, as shown below:"
   ]
  },
  {
   "cell_type": "code",
   "execution_count": 19,
   "metadata": {},
   "outputs": [
    {
     "data": {
      "image/png": "[encoded data removed]",
      "text/plain": [
       "<Figure size 432x288 with 1 Axes>"
      ]
     },
     "metadata": {
      "needs_background": "light"
     },
     "output_type": "display_data"
    }
   ],
   "source": [
    "# Set seed for reproducability\n",
    "np.random.seed(100)\n",
    "\n",
    "# Generate 100 values from 0 mean normal distribution\n",
    "x = np.random.randn(10000)\n",
    "\n",
    "#Plot the distogram with hist() function\n",
    "plt.hist(x, bins = 50)\n",
    "\n",
    "plt.xlabel('Normal random distribution')\n",
    "plt.ylabel('Frequency of Values')\n",
    "plt.title('Histograms in matplotlib')\n",
    "plt.show()"
   ]
  },
  {
   "cell_type": "markdown",
   "metadata": {},
   "source": [
    "Looks more like the usual \"bell curve\". Try increasing the number of values and bins further, and inspect the effect of output shape. \n",
    "\n",
    "## Summary\n",
    "\n",
    "In this lesson, we learnt how to use matplotlib's basic plotting techniques to visually describe our data. We also identified use cases for each of these techniques and learnt how to customize and add basic details to a plot. "
   ]
  }
 ],
 "metadata": {
  "kernelspec": {
   "display_name": "Python 3",
   "language": "python",
   "name": "python3"
  },
  "language_info": {
   "codemirror_mode": {
    "name": "ipython",
    "version": 3
   },
   "file_extension": ".py",
   "mimetype": "text/x-python",
   "name": "python",
   "nbconvert_exporter": "python",
   "pygments_lexer": "ipython3",
   "version": "3.6.6"
  }
 },
 "nbformat": 4,
 "nbformat_minor": 2
}
